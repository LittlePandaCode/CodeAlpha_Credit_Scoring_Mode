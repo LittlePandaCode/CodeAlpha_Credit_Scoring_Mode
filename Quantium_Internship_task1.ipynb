{
  "nbformat": 4,
  "nbformat_minor": 0,
  "metadata": {
    "colab": {
      "provenance": [],
      "collapsed_sections": [
        "RMotfO1WHclt",
        "Z6OkqcCFMi0a",
        "Yl0dUky-JdRm",
        "aLHXRNaBV6ad",
        "xQuRhMEAWUzz"
      ],
      "gpuType": "T4",
      "mount_file_id": "1SFtfKx0kSfZwasyzddb27-TJNe2O2D3c",
      "authorship_tag": "ABX9TyOkgRRyA3yynKSLOy0dwffx",
      "include_colab_link": true
    },
    "kernelspec": {
      "name": "python3",
      "display_name": "Python 3"
    },
    "language_info": {
      "name": "python"
    },
    "accelerator": "GPU"
  },
  "cells": [
    {
      "cell_type": "markdown",
      "metadata": {
        "id": "view-in-github",
        "colab_type": "text"
      },
      "source": [
        "<a href=\"https://colab.research.google.com/github/LittlePandaCode/CodeAlpha_Credit_Scoring_Mode/blob/main/Quantium_Internship_task1.ipynb\" target=\"_parent\"><img src=\"https://colab.research.google.com/assets/colab-badge.svg\" alt=\"Open In Colab\"/></a>"
      ]
    },
    {
      "cell_type": "markdown",
      "source": [
        "## Load required libraries and datasets"
      ],
      "metadata": {
        "id": "WOneAN6Aa6-J"
      }
    },
    {
      "cell_type": "code",
      "execution_count": null,
      "metadata": {
        "id": "HqV5MKv2GHHT"
      },
      "outputs": [],
      "source": [
        "import numpy as np\n",
        "import pandas as pd\n",
        "import matplotlib.pyplot as plt\n",
        "import seaborn as sns\n",
        "import re\n",
        "from scipy import stats\n"
      ]
    },
    {
      "cell_type": "code",
      "source": [
        "customer =pd.read_csv(\"/content/drive/MyDrive/Datasets/Quantium /QVI_purchase_behaviour (1).csv\",header=0)"
      ],
      "metadata": {
        "id": "mqAr_O5AGrG8"
      },
      "execution_count": null,
      "outputs": []
    },
    {
      "cell_type": "code",
      "source": [
        "transaction=pd.read_excel(\"/content/drive/MyDrive/Datasets/Quantium /QVI_transaction_data (1).xlsx\",header=0)"
      ],
      "metadata": {
        "id": "2P-rcBAGHQLX"
      },
      "execution_count": null,
      "outputs": []
    },
    {
      "cell_type": "markdown",
      "source": [
        "#**Pre_traitement :**"
      ],
      "metadata": {
        "id": "RMotfO1WHclt"
      }
    },
    {
      "cell_type": "markdown",
      "source": [
        "### **1)  Data visualization**"
      ],
      "metadata": {
        "id": "0tXE-0caAXem"
      }
    },
    {
      "cell_type": "code",
      "source": [
        "transaction.head()"
      ],
      "metadata": {
        "id": "TmUT-4bVHhw-",
        "colab": {
          "base_uri": "https://localhost:8080/",
          "height": 206
        },
        "outputId": "a826a8dd-31bd-4af8-b41a-347efc4ac05c"
      },
      "execution_count": null,
      "outputs": [
        {
          "output_type": "execute_result",
          "data": {
            "text/plain": [
              "    DATE  STORE_NBR  LYLTY_CARD_NBR  TXN_ID  PROD_NBR  \\\n",
              "0  43390          1            1000       1         5   \n",
              "1  43599          1            1307     348        66   \n",
              "2  43605          1            1343     383        61   \n",
              "3  43329          2            2373     974        69   \n",
              "4  43330          2            2426    1038       108   \n",
              "\n",
              "                                  PROD_NAME  PROD_QTY  TOT_SALES  \n",
              "0    Natural Chip        Compny SeaSalt175g         2        6.0  \n",
              "1                  CCs Nacho Cheese    175g         3        6.3  \n",
              "2    Smiths Crinkle Cut  Chips Chicken 170g         2        2.9  \n",
              "3    Smiths Chip Thinly  S/Cream&Onion 175g         5       15.0  \n",
              "4  Kettle Tortilla ChpsHny&Jlpno Chili 150g         3       13.8  "
            ],
            "text/html": [
              "\n",
              "  <div id=\"df-a464bf01-45c0-4f08-bbc6-45ed9d12aa30\" class=\"colab-df-container\">\n",
              "    <div>\n",
              "<style scoped>\n",
              "    .dataframe tbody tr th:only-of-type {\n",
              "        vertical-align: middle;\n",
              "    }\n",
              "\n",
              "    .dataframe tbody tr th {\n",
              "        vertical-align: top;\n",
              "    }\n",
              "\n",
              "    .dataframe thead th {\n",
              "        text-align: right;\n",
              "    }\n",
              "</style>\n",
              "<table border=\"1\" class=\"dataframe\">\n",
              "  <thead>\n",
              "    <tr style=\"text-align: right;\">\n",
              "      <th></th>\n",
              "      <th>DATE</th>\n",
              "      <th>STORE_NBR</th>\n",
              "      <th>LYLTY_CARD_NBR</th>\n",
              "      <th>TXN_ID</th>\n",
              "      <th>PROD_NBR</th>\n",
              "      <th>PROD_NAME</th>\n",
              "      <th>PROD_QTY</th>\n",
              "      <th>TOT_SALES</th>\n",
              "    </tr>\n",
              "  </thead>\n",
              "  <tbody>\n",
              "    <tr>\n",
              "      <th>0</th>\n",
              "      <td>43390</td>\n",
              "      <td>1</td>\n",
              "      <td>1000</td>\n",
              "      <td>1</td>\n",
              "      <td>5</td>\n",
              "      <td>Natural Chip        Compny SeaSalt175g</td>\n",
              "      <td>2</td>\n",
              "      <td>6.0</td>\n",
              "    </tr>\n",
              "    <tr>\n",
              "      <th>1</th>\n",
              "      <td>43599</td>\n",
              "      <td>1</td>\n",
              "      <td>1307</td>\n",
              "      <td>348</td>\n",
              "      <td>66</td>\n",
              "      <td>CCs Nacho Cheese    175g</td>\n",
              "      <td>3</td>\n",
              "      <td>6.3</td>\n",
              "    </tr>\n",
              "    <tr>\n",
              "      <th>2</th>\n",
              "      <td>43605</td>\n",
              "      <td>1</td>\n",
              "      <td>1343</td>\n",
              "      <td>383</td>\n",
              "      <td>61</td>\n",
              "      <td>Smiths Crinkle Cut  Chips Chicken 170g</td>\n",
              "      <td>2</td>\n",
              "      <td>2.9</td>\n",
              "    </tr>\n",
              "    <tr>\n",
              "      <th>3</th>\n",
              "      <td>43329</td>\n",
              "      <td>2</td>\n",
              "      <td>2373</td>\n",
              "      <td>974</td>\n",
              "      <td>69</td>\n",
              "      <td>Smiths Chip Thinly  S/Cream&amp;Onion 175g</td>\n",
              "      <td>5</td>\n",
              "      <td>15.0</td>\n",
              "    </tr>\n",
              "    <tr>\n",
              "      <th>4</th>\n",
              "      <td>43330</td>\n",
              "      <td>2</td>\n",
              "      <td>2426</td>\n",
              "      <td>1038</td>\n",
              "      <td>108</td>\n",
              "      <td>Kettle Tortilla ChpsHny&amp;Jlpno Chili 150g</td>\n",
              "      <td>3</td>\n",
              "      <td>13.8</td>\n",
              "    </tr>\n",
              "  </tbody>\n",
              "</table>\n",
              "</div>\n",
              "    <div class=\"colab-df-buttons\">\n",
              "\n",
              "  <div class=\"colab-df-container\">\n",
              "    <button class=\"colab-df-convert\" onclick=\"convertToInteractive('df-a464bf01-45c0-4f08-bbc6-45ed9d12aa30')\"\n",
              "            title=\"Convert this dataframe to an interactive table.\"\n",
              "            style=\"display:none;\">\n",
              "\n",
              "  <svg xmlns=\"http://www.w3.org/2000/svg\" height=\"24px\" viewBox=\"0 -960 960 960\">\n",
              "    <path d=\"M120-120v-720h720v720H120Zm60-500h600v-160H180v160Zm220 220h160v-160H400v160Zm0 220h160v-160H400v160ZM180-400h160v-160H180v160Zm440 0h160v-160H620v160ZM180-180h160v-160H180v160Zm440 0h160v-160H620v160Z\"/>\n",
              "  </svg>\n",
              "    </button>\n",
              "\n",
              "  <style>\n",
              "    .colab-df-container {\n",
              "      display:flex;\n",
              "      gap: 12px;\n",
              "    }\n",
              "\n",
              "    .colab-df-convert {\n",
              "      background-color: #E8F0FE;\n",
              "      border: none;\n",
              "      border-radius: 50%;\n",
              "      cursor: pointer;\n",
              "      display: none;\n",
              "      fill: #1967D2;\n",
              "      height: 32px;\n",
              "      padding: 0 0 0 0;\n",
              "      width: 32px;\n",
              "    }\n",
              "\n",
              "    .colab-df-convert:hover {\n",
              "      background-color: #E2EBFA;\n",
              "      box-shadow: 0px 1px 2px rgba(60, 64, 67, 0.3), 0px 1px 3px 1px rgba(60, 64, 67, 0.15);\n",
              "      fill: #174EA6;\n",
              "    }\n",
              "\n",
              "    .colab-df-buttons div {\n",
              "      margin-bottom: 4px;\n",
              "    }\n",
              "\n",
              "    [theme=dark] .colab-df-convert {\n",
              "      background-color: #3B4455;\n",
              "      fill: #D2E3FC;\n",
              "    }\n",
              "\n",
              "    [theme=dark] .colab-df-convert:hover {\n",
              "      background-color: #434B5C;\n",
              "      box-shadow: 0px 1px 3px 1px rgba(0, 0, 0, 0.15);\n",
              "      filter: drop-shadow(0px 1px 2px rgba(0, 0, 0, 0.3));\n",
              "      fill: #FFFFFF;\n",
              "    }\n",
              "  </style>\n",
              "\n",
              "    <script>\n",
              "      const buttonEl =\n",
              "        document.querySelector('#df-a464bf01-45c0-4f08-bbc6-45ed9d12aa30 button.colab-df-convert');\n",
              "      buttonEl.style.display =\n",
              "        google.colab.kernel.accessAllowed ? 'block' : 'none';\n",
              "\n",
              "      async function convertToInteractive(key) {\n",
              "        const element = document.querySelector('#df-a464bf01-45c0-4f08-bbc6-45ed9d12aa30');\n",
              "        const dataTable =\n",
              "          await google.colab.kernel.invokeFunction('convertToInteractive',\n",
              "                                                    [key], {});\n",
              "        if (!dataTable) return;\n",
              "\n",
              "        const docLinkHtml = 'Like what you see? Visit the ' +\n",
              "          '<a target=\"_blank\" href=https://colab.research.google.com/notebooks/data_table.ipynb>data table notebook</a>'\n",
              "          + ' to learn more about interactive tables.';\n",
              "        element.innerHTML = '';\n",
              "        dataTable['output_type'] = 'display_data';\n",
              "        await google.colab.output.renderOutput(dataTable, element);\n",
              "        const docLink = document.createElement('div');\n",
              "        docLink.innerHTML = docLinkHtml;\n",
              "        element.appendChild(docLink);\n",
              "      }\n",
              "    </script>\n",
              "  </div>\n",
              "\n",
              "\n",
              "<div id=\"df-56eab6b3-4c1c-445a-b4d9-93bf8a0c8233\">\n",
              "  <button class=\"colab-df-quickchart\" onclick=\"quickchart('df-56eab6b3-4c1c-445a-b4d9-93bf8a0c8233')\"\n",
              "            title=\"Suggest charts\"\n",
              "            style=\"display:none;\">\n",
              "\n",
              "<svg xmlns=\"http://www.w3.org/2000/svg\" height=\"24px\"viewBox=\"0 0 24 24\"\n",
              "     width=\"24px\">\n",
              "    <g>\n",
              "        <path d=\"M19 3H5c-1.1 0-2 .9-2 2v14c0 1.1.9 2 2 2h14c1.1 0 2-.9 2-2V5c0-1.1-.9-2-2-2zM9 17H7v-7h2v7zm4 0h-2V7h2v10zm4 0h-2v-4h2v4z\"/>\n",
              "    </g>\n",
              "</svg>\n",
              "  </button>\n",
              "\n",
              "<style>\n",
              "  .colab-df-quickchart {\n",
              "      --bg-color: #E8F0FE;\n",
              "      --fill-color: #1967D2;\n",
              "      --hover-bg-color: #E2EBFA;\n",
              "      --hover-fill-color: #174EA6;\n",
              "      --disabled-fill-color: #AAA;\n",
              "      --disabled-bg-color: #DDD;\n",
              "  }\n",
              "\n",
              "  [theme=dark] .colab-df-quickchart {\n",
              "      --bg-color: #3B4455;\n",
              "      --fill-color: #D2E3FC;\n",
              "      --hover-bg-color: #434B5C;\n",
              "      --hover-fill-color: #FFFFFF;\n",
              "      --disabled-bg-color: #3B4455;\n",
              "      --disabled-fill-color: #666;\n",
              "  }\n",
              "\n",
              "  .colab-df-quickchart {\n",
              "    background-color: var(--bg-color);\n",
              "    border: none;\n",
              "    border-radius: 50%;\n",
              "    cursor: pointer;\n",
              "    display: none;\n",
              "    fill: var(--fill-color);\n",
              "    height: 32px;\n",
              "    padding: 0;\n",
              "    width: 32px;\n",
              "  }\n",
              "\n",
              "  .colab-df-quickchart:hover {\n",
              "    background-color: var(--hover-bg-color);\n",
              "    box-shadow: 0 1px 2px rgba(60, 64, 67, 0.3), 0 1px 3px 1px rgba(60, 64, 67, 0.15);\n",
              "    fill: var(--button-hover-fill-color);\n",
              "  }\n",
              "\n",
              "  .colab-df-quickchart-complete:disabled,\n",
              "  .colab-df-quickchart-complete:disabled:hover {\n",
              "    background-color: var(--disabled-bg-color);\n",
              "    fill: var(--disabled-fill-color);\n",
              "    box-shadow: none;\n",
              "  }\n",
              "\n",
              "  .colab-df-spinner {\n",
              "    border: 2px solid var(--fill-color);\n",
              "    border-color: transparent;\n",
              "    border-bottom-color: var(--fill-color);\n",
              "    animation:\n",
              "      spin 1s steps(1) infinite;\n",
              "  }\n",
              "\n",
              "  @keyframes spin {\n",
              "    0% {\n",
              "      border-color: transparent;\n",
              "      border-bottom-color: var(--fill-color);\n",
              "      border-left-color: var(--fill-color);\n",
              "    }\n",
              "    20% {\n",
              "      border-color: transparent;\n",
              "      border-left-color: var(--fill-color);\n",
              "      border-top-color: var(--fill-color);\n",
              "    }\n",
              "    30% {\n",
              "      border-color: transparent;\n",
              "      border-left-color: var(--fill-color);\n",
              "      border-top-color: var(--fill-color);\n",
              "      border-right-color: var(--fill-color);\n",
              "    }\n",
              "    40% {\n",
              "      border-color: transparent;\n",
              "      border-right-color: var(--fill-color);\n",
              "      border-top-color: var(--fill-color);\n",
              "    }\n",
              "    60% {\n",
              "      border-color: transparent;\n",
              "      border-right-color: var(--fill-color);\n",
              "    }\n",
              "    80% {\n",
              "      border-color: transparent;\n",
              "      border-right-color: var(--fill-color);\n",
              "      border-bottom-color: var(--fill-color);\n",
              "    }\n",
              "    90% {\n",
              "      border-color: transparent;\n",
              "      border-bottom-color: var(--fill-color);\n",
              "    }\n",
              "  }\n",
              "</style>\n",
              "\n",
              "  <script>\n",
              "    async function quickchart(key) {\n",
              "      const quickchartButtonEl =\n",
              "        document.querySelector('#' + key + ' button');\n",
              "      quickchartButtonEl.disabled = true;  // To prevent multiple clicks.\n",
              "      quickchartButtonEl.classList.add('colab-df-spinner');\n",
              "      try {\n",
              "        const charts = await google.colab.kernel.invokeFunction(\n",
              "            'suggestCharts', [key], {});\n",
              "      } catch (error) {\n",
              "        console.error('Error during call to suggestCharts:', error);\n",
              "      }\n",
              "      quickchartButtonEl.classList.remove('colab-df-spinner');\n",
              "      quickchartButtonEl.classList.add('colab-df-quickchart-complete');\n",
              "    }\n",
              "    (() => {\n",
              "      let quickchartButtonEl =\n",
              "        document.querySelector('#df-56eab6b3-4c1c-445a-b4d9-93bf8a0c8233 button');\n",
              "      quickchartButtonEl.style.display =\n",
              "        google.colab.kernel.accessAllowed ? 'block' : 'none';\n",
              "    })();\n",
              "  </script>\n",
              "</div>\n",
              "\n",
              "    </div>\n",
              "  </div>\n"
            ],
            "application/vnd.google.colaboratory.intrinsic+json": {
              "type": "dataframe",
              "variable_name": "transaction"
            }
          },
          "metadata": {},
          "execution_count": 4
        }
      ]
    },
    {
      "cell_type": "markdown",
      "source": [
        "### **2) convert DATE to data type**"
      ],
      "metadata": {
        "id": "l_kCwM8DAeP-"
      }
    },
    {
      "cell_type": "code",
      "source": [
        "transaction['DATE']=pd.to_datetime(transaction['DATE'], origin='1899-12-30', unit='D')\n",
        "#   Unit='D': specifier que les entiers repesentent les jours"
      ],
      "metadata": {
        "id": "mVAgbu6IAnV5"
      },
      "execution_count": null,
      "outputs": []
    },
    {
      "cell_type": "code",
      "source": [
        "transaction.head()"
      ],
      "metadata": {
        "colab": {
          "base_uri": "https://localhost:8080/",
          "height": 399
        },
        "id": "iHpmwwscBRGN",
        "outputId": "f205c6d1-07ea-4072-939d-bd7538f5ea39"
      },
      "execution_count": null,
      "outputs": [
        {
          "output_type": "execute_result",
          "data": {
            "text/plain": [
              "        DATE  STORE_NBR  LYLTY_CARD_NBR  TXN_ID  PROD_NBR  \\\n",
              "0 2018-10-17          1            1000       1         5   \n",
              "1 2019-05-14          1            1307     348        66   \n",
              "2 2019-05-20          1            1343     383        61   \n",
              "3 2018-08-17          2            2373     974        69   \n",
              "4 2018-08-18          2            2426    1038       108   \n",
              "\n",
              "                                  PROD_NAME  PROD_QTY  TOT_SALES  \n",
              "0    Natural Chip        Compny SeaSalt175g         2        6.0  \n",
              "1                  CCs Nacho Cheese    175g         3        6.3  \n",
              "2    Smiths Crinkle Cut  Chips Chicken 170g         2        2.9  \n",
              "3    Smiths Chip Thinly  S/Cream&Onion 175g         5       15.0  \n",
              "4  Kettle Tortilla ChpsHny&Jlpno Chili 150g         3       13.8  "
            ],
            "text/html": [
              "\n",
              "  <div id=\"df-4fb169e5-d07d-4247-aee9-b92815244278\" class=\"colab-df-container\">\n",
              "    <div>\n",
              "<style scoped>\n",
              "    .dataframe tbody tr th:only-of-type {\n",
              "        vertical-align: middle;\n",
              "    }\n",
              "\n",
              "    .dataframe tbody tr th {\n",
              "        vertical-align: top;\n",
              "    }\n",
              "\n",
              "    .dataframe thead th {\n",
              "        text-align: right;\n",
              "    }\n",
              "</style>\n",
              "<table border=\"1\" class=\"dataframe\">\n",
              "  <thead>\n",
              "    <tr style=\"text-align: right;\">\n",
              "      <th></th>\n",
              "      <th>DATE</th>\n",
              "      <th>STORE_NBR</th>\n",
              "      <th>LYLTY_CARD_NBR</th>\n",
              "      <th>TXN_ID</th>\n",
              "      <th>PROD_NBR</th>\n",
              "      <th>PROD_NAME</th>\n",
              "      <th>PROD_QTY</th>\n",
              "      <th>TOT_SALES</th>\n",
              "    </tr>\n",
              "  </thead>\n",
              "  <tbody>\n",
              "    <tr>\n",
              "      <th>0</th>\n",
              "      <td>2018-10-17</td>\n",
              "      <td>1</td>\n",
              "      <td>1000</td>\n",
              "      <td>1</td>\n",
              "      <td>5</td>\n",
              "      <td>Natural Chip        Compny SeaSalt175g</td>\n",
              "      <td>2</td>\n",
              "      <td>6.0</td>\n",
              "    </tr>\n",
              "    <tr>\n",
              "      <th>1</th>\n",
              "      <td>2019-05-14</td>\n",
              "      <td>1</td>\n",
              "      <td>1307</td>\n",
              "      <td>348</td>\n",
              "      <td>66</td>\n",
              "      <td>CCs Nacho Cheese    175g</td>\n",
              "      <td>3</td>\n",
              "      <td>6.3</td>\n",
              "    </tr>\n",
              "    <tr>\n",
              "      <th>2</th>\n",
              "      <td>2019-05-20</td>\n",
              "      <td>1</td>\n",
              "      <td>1343</td>\n",
              "      <td>383</td>\n",
              "      <td>61</td>\n",
              "      <td>Smiths Crinkle Cut  Chips Chicken 170g</td>\n",
              "      <td>2</td>\n",
              "      <td>2.9</td>\n",
              "    </tr>\n",
              "    <tr>\n",
              "      <th>3</th>\n",
              "      <td>2018-08-17</td>\n",
              "      <td>2</td>\n",
              "      <td>2373</td>\n",
              "      <td>974</td>\n",
              "      <td>69</td>\n",
              "      <td>Smiths Chip Thinly  S/Cream&amp;Onion 175g</td>\n",
              "      <td>5</td>\n",
              "      <td>15.0</td>\n",
              "    </tr>\n",
              "    <tr>\n",
              "      <th>4</th>\n",
              "      <td>2018-08-18</td>\n",
              "      <td>2</td>\n",
              "      <td>2426</td>\n",
              "      <td>1038</td>\n",
              "      <td>108</td>\n",
              "      <td>Kettle Tortilla ChpsHny&amp;Jlpno Chili 150g</td>\n",
              "      <td>3</td>\n",
              "      <td>13.8</td>\n",
              "    </tr>\n",
              "  </tbody>\n",
              "</table>\n",
              "</div>\n",
              "    <div class=\"colab-df-buttons\">\n",
              "\n",
              "  <div class=\"colab-df-container\">\n",
              "    <button class=\"colab-df-convert\" onclick=\"convertToInteractive('df-4fb169e5-d07d-4247-aee9-b92815244278')\"\n",
              "            title=\"Convert this dataframe to an interactive table.\"\n",
              "            style=\"display:none;\">\n",
              "\n",
              "  <svg xmlns=\"http://www.w3.org/2000/svg\" height=\"24px\" viewBox=\"0 -960 960 960\">\n",
              "    <path d=\"M120-120v-720h720v720H120Zm60-500h600v-160H180v160Zm220 220h160v-160H400v160Zm0 220h160v-160H400v160ZM180-400h160v-160H180v160Zm440 0h160v-160H620v160ZM180-180h160v-160H180v160Zm440 0h160v-160H620v160Z\"/>\n",
              "  </svg>\n",
              "    </button>\n",
              "\n",
              "  <style>\n",
              "    .colab-df-container {\n",
              "      display:flex;\n",
              "      gap: 12px;\n",
              "    }\n",
              "\n",
              "    .colab-df-convert {\n",
              "      background-color: #E8F0FE;\n",
              "      border: none;\n",
              "      border-radius: 50%;\n",
              "      cursor: pointer;\n",
              "      display: none;\n",
              "      fill: #1967D2;\n",
              "      height: 32px;\n",
              "      padding: 0 0 0 0;\n",
              "      width: 32px;\n",
              "    }\n",
              "\n",
              "    .colab-df-convert:hover {\n",
              "      background-color: #E2EBFA;\n",
              "      box-shadow: 0px 1px 2px rgba(60, 64, 67, 0.3), 0px 1px 3px 1px rgba(60, 64, 67, 0.15);\n",
              "      fill: #174EA6;\n",
              "    }\n",
              "\n",
              "    .colab-df-buttons div {\n",
              "      margin-bottom: 4px;\n",
              "    }\n",
              "\n",
              "    [theme=dark] .colab-df-convert {\n",
              "      background-color: #3B4455;\n",
              "      fill: #D2E3FC;\n",
              "    }\n",
              "\n",
              "    [theme=dark] .colab-df-convert:hover {\n",
              "      background-color: #434B5C;\n",
              "      box-shadow: 0px 1px 3px 1px rgba(0, 0, 0, 0.15);\n",
              "      filter: drop-shadow(0px 1px 2px rgba(0, 0, 0, 0.3));\n",
              "      fill: #FFFFFF;\n",
              "    }\n",
              "  </style>\n",
              "\n",
              "    <script>\n",
              "      const buttonEl =\n",
              "        document.querySelector('#df-4fb169e5-d07d-4247-aee9-b92815244278 button.colab-df-convert');\n",
              "      buttonEl.style.display =\n",
              "        google.colab.kernel.accessAllowed ? 'block' : 'none';\n",
              "\n",
              "      async function convertToInteractive(key) {\n",
              "        const element = document.querySelector('#df-4fb169e5-d07d-4247-aee9-b92815244278');\n",
              "        const dataTable =\n",
              "          await google.colab.kernel.invokeFunction('convertToInteractive',\n",
              "                                                    [key], {});\n",
              "        if (!dataTable) return;\n",
              "\n",
              "        const docLinkHtml = 'Like what you see? Visit the ' +\n",
              "          '<a target=\"_blank\" href=https://colab.research.google.com/notebooks/data_table.ipynb>data table notebook</a>'\n",
              "          + ' to learn more about interactive tables.';\n",
              "        element.innerHTML = '';\n",
              "        dataTable['output_type'] = 'display_data';\n",
              "        await google.colab.output.renderOutput(dataTable, element);\n",
              "        const docLink = document.createElement('div');\n",
              "        docLink.innerHTML = docLinkHtml;\n",
              "        element.appendChild(docLink);\n",
              "      }\n",
              "    </script>\n",
              "  </div>\n",
              "\n",
              "\n",
              "<div id=\"df-9ca84bc1-4933-4536-ae0b-89b8e2696853\">\n",
              "  <button class=\"colab-df-quickchart\" onclick=\"quickchart('df-9ca84bc1-4933-4536-ae0b-89b8e2696853')\"\n",
              "            title=\"Suggest charts\"\n",
              "            style=\"display:none;\">\n",
              "\n",
              "<svg xmlns=\"http://www.w3.org/2000/svg\" height=\"24px\"viewBox=\"0 0 24 24\"\n",
              "     width=\"24px\">\n",
              "    <g>\n",
              "        <path d=\"M19 3H5c-1.1 0-2 .9-2 2v14c0 1.1.9 2 2 2h14c1.1 0 2-.9 2-2V5c0-1.1-.9-2-2-2zM9 17H7v-7h2v7zm4 0h-2V7h2v10zm4 0h-2v-4h2v4z\"/>\n",
              "    </g>\n",
              "</svg>\n",
              "  </button>\n",
              "\n",
              "<style>\n",
              "  .colab-df-quickchart {\n",
              "      --bg-color: #E8F0FE;\n",
              "      --fill-color: #1967D2;\n",
              "      --hover-bg-color: #E2EBFA;\n",
              "      --hover-fill-color: #174EA6;\n",
              "      --disabled-fill-color: #AAA;\n",
              "      --disabled-bg-color: #DDD;\n",
              "  }\n",
              "\n",
              "  [theme=dark] .colab-df-quickchart {\n",
              "      --bg-color: #3B4455;\n",
              "      --fill-color: #D2E3FC;\n",
              "      --hover-bg-color: #434B5C;\n",
              "      --hover-fill-color: #FFFFFF;\n",
              "      --disabled-bg-color: #3B4455;\n",
              "      --disabled-fill-color: #666;\n",
              "  }\n",
              "\n",
              "  .colab-df-quickchart {\n",
              "    background-color: var(--bg-color);\n",
              "    border: none;\n",
              "    border-radius: 50%;\n",
              "    cursor: pointer;\n",
              "    display: none;\n",
              "    fill: var(--fill-color);\n",
              "    height: 32px;\n",
              "    padding: 0;\n",
              "    width: 32px;\n",
              "  }\n",
              "\n",
              "  .colab-df-quickchart:hover {\n",
              "    background-color: var(--hover-bg-color);\n",
              "    box-shadow: 0 1px 2px rgba(60, 64, 67, 0.3), 0 1px 3px 1px rgba(60, 64, 67, 0.15);\n",
              "    fill: var(--button-hover-fill-color);\n",
              "  }\n",
              "\n",
              "  .colab-df-quickchart-complete:disabled,\n",
              "  .colab-df-quickchart-complete:disabled:hover {\n",
              "    background-color: var(--disabled-bg-color);\n",
              "    fill: var(--disabled-fill-color);\n",
              "    box-shadow: none;\n",
              "  }\n",
              "\n",
              "  .colab-df-spinner {\n",
              "    border: 2px solid var(--fill-color);\n",
              "    border-color: transparent;\n",
              "    border-bottom-color: var(--fill-color);\n",
              "    animation:\n",
              "      spin 1s steps(1) infinite;\n",
              "  }\n",
              "\n",
              "  @keyframes spin {\n",
              "    0% {\n",
              "      border-color: transparent;\n",
              "      border-bottom-color: var(--fill-color);\n",
              "      border-left-color: var(--fill-color);\n",
              "    }\n",
              "    20% {\n",
              "      border-color: transparent;\n",
              "      border-left-color: var(--fill-color);\n",
              "      border-top-color: var(--fill-color);\n",
              "    }\n",
              "    30% {\n",
              "      border-color: transparent;\n",
              "      border-left-color: var(--fill-color);\n",
              "      border-top-color: var(--fill-color);\n",
              "      border-right-color: var(--fill-color);\n",
              "    }\n",
              "    40% {\n",
              "      border-color: transparent;\n",
              "      border-right-color: var(--fill-color);\n",
              "      border-top-color: var(--fill-color);\n",
              "    }\n",
              "    60% {\n",
              "      border-color: transparent;\n",
              "      border-right-color: var(--fill-color);\n",
              "    }\n",
              "    80% {\n",
              "      border-color: transparent;\n",
              "      border-right-color: var(--fill-color);\n",
              "      border-bottom-color: var(--fill-color);\n",
              "    }\n",
              "    90% {\n",
              "      border-color: transparent;\n",
              "      border-bottom-color: var(--fill-color);\n",
              "    }\n",
              "  }\n",
              "</style>\n",
              "\n",
              "  <script>\n",
              "    async function quickchart(key) {\n",
              "      const quickchartButtonEl =\n",
              "        document.querySelector('#' + key + ' button');\n",
              "      quickchartButtonEl.disabled = true;  // To prevent multiple clicks.\n",
              "      quickchartButtonEl.classList.add('colab-df-spinner');\n",
              "      try {\n",
              "        const charts = await google.colab.kernel.invokeFunction(\n",
              "            'suggestCharts', [key], {});\n",
              "      } catch (error) {\n",
              "        console.error('Error during call to suggestCharts:', error);\n",
              "      }\n",
              "      quickchartButtonEl.classList.remove('colab-df-spinner');\n",
              "      quickchartButtonEl.classList.add('colab-df-quickchart-complete');\n",
              "    }\n",
              "    (() => {\n",
              "      let quickchartButtonEl =\n",
              "        document.querySelector('#df-9ca84bc1-4933-4536-ae0b-89b8e2696853 button');\n",
              "      quickchartButtonEl.style.display =\n",
              "        google.colab.kernel.accessAllowed ? 'block' : 'none';\n",
              "    })();\n",
              "  </script>\n",
              "</div>\n",
              "\n",
              "    </div>\n",
              "  </div>\n"
            ],
            "application/vnd.google.colaboratory.intrinsic+json": {
              "type": "dataframe",
              "variable_name": "transaction"
            }
          },
          "metadata": {},
          "execution_count": 6
        }
      ]
    },
    {
      "cell_type": "markdown",
      "source": [
        "### **3) testing la column PROD_NAME**\n",
        "\n",
        "\n"
      ],
      "metadata": {
        "id": "fBZ_kgtjBypJ"
      }
    },
    {
      "cell_type": "code",
      "source": [
        "transaction['PROD_NAME'].describe()"
      ],
      "metadata": {
        "colab": {
          "base_uri": "https://localhost:8080/"
        },
        "id": "HwyER8GlB7WP",
        "outputId": "86212423-63ba-4a7a-a16c-37f74d2b9adc"
      },
      "execution_count": null,
      "outputs": [
        {
          "output_type": "execute_result",
          "data": {
            "text/plain": [
              "count                                     264836\n",
              "unique                                       114\n",
              "top       Kettle Mozzarella   Basil & Pesto 175g\n",
              "freq                                        3304\n",
              "Name: PROD_NAME, dtype: object"
            ]
          },
          "metadata": {},
          "execution_count": 7
        }
      ]
    },
    {
      "cell_type": "markdown",
      "source": [
        "We must ensure that all products are chips"
      ],
      "metadata": {
        "id": "xOqAPJo5CU34"
      }
    },
    {
      "cell_type": "code",
      "source": [
        "characters_remove=r'[|.,()\\\\\"$!?/:;\\-\\'\\'£#$&]'\n",
        "transaction['PROD_NAME']=transaction['PROD_NAME'].dropna()\n",
        "transaction['PROD_NAME']=transaction['PROD_NAME'].str.replace(characters_remove,'',regex=True)\n",
        "transaction['PROD_NAME']=transaction['PROD_NAME'].str.lower()"
      ],
      "metadata": {
        "id": "_x2iRc4DDwxv"
      },
      "execution_count": null,
      "outputs": []
    },
    {
      "cell_type": "code",
      "source": [
        "words=transaction['PROD_NAME'].str.split()\n",
        "# determiner les mots existants et calculer leur frequence\n",
        "words_unique=[word for sublist in words for word in sublist]\n",
        "words_count=pd.Series(words_unique).value_counts()\n",
        "# trier les par leur frequence\n",
        "sorted_words=words_count.sort_values(ascending=False)\n",
        "# afficher le resultats\n",
        "print(sorted_words)"
      ],
      "metadata": {
        "colab": {
          "base_uri": "https://localhost:8080/"
        },
        "id": "cto5ZzZGH9pg",
        "outputId": "d2f0b392-2d08-424b-b05d-81cf348be920"
      },
      "execution_count": null,
      "outputs": [
        {
          "output_type": "stream",
          "name": "stdout",
          "text": [
            "175g        60561\n",
            "chips       49770\n",
            "150g        43131\n",
            "kettle      41288\n",
            "smiths      28860\n",
            "            ...  \n",
            "sunbites     1432\n",
            "pc           1431\n",
            "ncc          1419\n",
            "garden       1419\n",
            "fries        1418\n",
            "Length: 215, dtype: int64\n"
          ]
        }
      ]
    },
    {
      "cell_type": "markdown",
      "source": [
        "we need to keep only chips products"
      ],
      "metadata": {
        "id": "Sdd1XNhhKt6-"
      }
    },
    {
      "cell_type": "code",
      "source": [
        "transaction = transaction[transaction['PROD_NAME'].str.contains('chips', case=False)]\n",
        "transaction.info()\n",
        "''' case=False argument is used to make the search case-insensitive.\n",
        "This means that the str.contains() method will match the string 'chips' regardless\n",
        "of whether it's written in uppercase, lowercase, or a combination of both.\n",
        "\n",
        "By setting case=False, you ensure that the search for the word 'chips' is not\n",
        "sensitive to the case of the letters, so it will match 'chips', 'Chips', 'CHIPS',\n",
        "and any other combination of uppercase and lowercase letters.'''\n"
      ],
      "metadata": {
        "id": "YDHF78G-KzGg",
        "colab": {
          "base_uri": "https://localhost:8080/",
          "height": 331
        },
        "outputId": "5f3776c1-45ac-4fdf-ee2b-1ade4260732d"
      },
      "execution_count": null,
      "outputs": [
        {
          "output_type": "stream",
          "name": "stdout",
          "text": [
            "<class 'pandas.core.frame.DataFrame'>\n",
            "Int64Index: 49770 entries, 2 to 264830\n",
            "Data columns (total 8 columns):\n",
            " #   Column          Non-Null Count  Dtype         \n",
            "---  ------          --------------  -----         \n",
            " 0   DATE            49770 non-null  datetime64[ns]\n",
            " 1   STORE_NBR       49770 non-null  int64         \n",
            " 2   LYLTY_CARD_NBR  49770 non-null  int64         \n",
            " 3   TXN_ID          49770 non-null  int64         \n",
            " 4   PROD_NBR        49770 non-null  int64         \n",
            " 5   PROD_NAME       49770 non-null  object        \n",
            " 6   PROD_QTY        49770 non-null  int64         \n",
            " 7   TOT_SALES       49770 non-null  float64       \n",
            "dtypes: datetime64[ns](1), float64(1), int64(5), object(1)\n",
            "memory usage: 3.4+ MB\n"
          ]
        },
        {
          "output_type": "execute_result",
          "data": {
            "text/plain": [
              "\" case=False argument is used to make the search case-insensitive.\\nThis means that the str.contains() method will match the string 'chips' regardless\\nof whether it's written in uppercase, lowercase, or a combination of both.\\n\\nBy setting case=False, you ensure that the search for the word 'chips' is not\\nsensitive to the case of the letters, so it will match 'chips', 'Chips', 'CHIPS',\\nand any other combination of uppercase and lowercase letters.\""
            ],
            "application/vnd.google.colaboratory.intrinsic+json": {
              "type": "string"
            }
          },
          "metadata": {},
          "execution_count": 10
        }
      ]
    },
    {
      "cell_type": "code",
      "source": [
        "transaction.info()"
      ],
      "metadata": {
        "colab": {
          "base_uri": "https://localhost:8080/"
        },
        "id": "j4ys5EAqMXKi",
        "outputId": "7d0bd240-6ec4-407a-f698-744650d90cf1"
      },
      "execution_count": null,
      "outputs": [
        {
          "output_type": "stream",
          "name": "stdout",
          "text": [
            "<class 'pandas.core.frame.DataFrame'>\n",
            "Int64Index: 49770 entries, 2 to 264830\n",
            "Data columns (total 8 columns):\n",
            " #   Column          Non-Null Count  Dtype         \n",
            "---  ------          --------------  -----         \n",
            " 0   DATE            49770 non-null  datetime64[ns]\n",
            " 1   STORE_NBR       49770 non-null  int64         \n",
            " 2   LYLTY_CARD_NBR  49770 non-null  int64         \n",
            " 3   TXN_ID          49770 non-null  int64         \n",
            " 4   PROD_NBR        49770 non-null  int64         \n",
            " 5   PROD_NAME       49770 non-null  object        \n",
            " 6   PROD_QTY        49770 non-null  int64         \n",
            " 7   TOT_SALES       49770 non-null  float64       \n",
            "dtypes: datetime64[ns](1), float64(1), int64(5), object(1)\n",
            "memory usage: 3.4+ MB\n"
          ]
        }
      ]
    },
    {
      "cell_type": "markdown",
      "source": [
        "### **4) Remove outliers or null values**\n",
        "\n",
        "\n"
      ],
      "metadata": {
        "id": "y-7eTep7i1sq"
      }
    },
    {
      "cell_type": "code",
      "source": [
        "#purchase.info()\n",
        "#transaction.info()\n",
        "# dans la dataset on n'a pas de donnees manquants mais on a des donnees aberrantes (la qualite de produit = 200)\n",
        "# on doit eliminer ce point\n",
        "#transaction=transaction[transaction[\"PROD_QTY\"]!=200]\n",
        "transaction=transaction[transaction[\"LYLTY_CARD_NBR\"]!=226000]\n",
        "transaction.dropna(inplace=True)\n",
        "customer.dropna(inplace=True)"
      ],
      "metadata": {
        "id": "so3I8zJmH2xW"
      },
      "execution_count": null,
      "outputs": []
    },
    {
      "cell_type": "code",
      "source": [
        "transaction.PROD_QTY.unique()"
      ],
      "metadata": {
        "colab": {
          "base_uri": "https://localhost:8080/"
        },
        "id": "dJX14G0GiLKX",
        "outputId": "48ba5552-68ba-4667-9293-e4cd1d12aabf"
      },
      "execution_count": null,
      "outputs": [
        {
          "output_type": "execute_result",
          "data": {
            "text/plain": [
              "array([2, 1, 5, 4, 3])"
            ]
          },
          "metadata": {},
          "execution_count": 13
        }
      ]
    },
    {
      "cell_type": "code",
      "source": [
        "transaction[transaction[\"PROD_QTY\"]==200]"
      ],
      "metadata": {
        "colab": {
          "base_uri": "https://localhost:8080/",
          "height": 53
        },
        "id": "7VMZ-xZUYpf1",
        "outputId": "05d549c0-aa4a-40ef-d868-8e752549da92"
      },
      "execution_count": null,
      "outputs": [
        {
          "output_type": "execute_result",
          "data": {
            "text/plain": [
              "Empty DataFrame\n",
              "Columns: [DATE, STORE_NBR, LYLTY_CARD_NBR, TXN_ID, PROD_NBR, PROD_NAME, PROD_QTY, TOT_SALES]\n",
              "Index: []"
            ],
            "text/html": [
              "\n",
              "  <div id=\"df-6acd9626-12d4-4343-bcb1-4a915d2ab6d6\" class=\"colab-df-container\">\n",
              "    <div>\n",
              "<style scoped>\n",
              "    .dataframe tbody tr th:only-of-type {\n",
              "        vertical-align: middle;\n",
              "    }\n",
              "\n",
              "    .dataframe tbody tr th {\n",
              "        vertical-align: top;\n",
              "    }\n",
              "\n",
              "    .dataframe thead th {\n",
              "        text-align: right;\n",
              "    }\n",
              "</style>\n",
              "<table border=\"1\" class=\"dataframe\">\n",
              "  <thead>\n",
              "    <tr style=\"text-align: right;\">\n",
              "      <th></th>\n",
              "      <th>DATE</th>\n",
              "      <th>STORE_NBR</th>\n",
              "      <th>LYLTY_CARD_NBR</th>\n",
              "      <th>TXN_ID</th>\n",
              "      <th>PROD_NBR</th>\n",
              "      <th>PROD_NAME</th>\n",
              "      <th>PROD_QTY</th>\n",
              "      <th>TOT_SALES</th>\n",
              "    </tr>\n",
              "  </thead>\n",
              "  <tbody>\n",
              "  </tbody>\n",
              "</table>\n",
              "</div>\n",
              "    <div class=\"colab-df-buttons\">\n",
              "\n",
              "  <div class=\"colab-df-container\">\n",
              "    <button class=\"colab-df-convert\" onclick=\"convertToInteractive('df-6acd9626-12d4-4343-bcb1-4a915d2ab6d6')\"\n",
              "            title=\"Convert this dataframe to an interactive table.\"\n",
              "            style=\"display:none;\">\n",
              "\n",
              "  <svg xmlns=\"http://www.w3.org/2000/svg\" height=\"24px\" viewBox=\"0 -960 960 960\">\n",
              "    <path d=\"M120-120v-720h720v720H120Zm60-500h600v-160H180v160Zm220 220h160v-160H400v160Zm0 220h160v-160H400v160ZM180-400h160v-160H180v160Zm440 0h160v-160H620v160ZM180-180h160v-160H180v160Zm440 0h160v-160H620v160Z\"/>\n",
              "  </svg>\n",
              "    </button>\n",
              "\n",
              "  <style>\n",
              "    .colab-df-container {\n",
              "      display:flex;\n",
              "      gap: 12px;\n",
              "    }\n",
              "\n",
              "    .colab-df-convert {\n",
              "      background-color: #E8F0FE;\n",
              "      border: none;\n",
              "      border-radius: 50%;\n",
              "      cursor: pointer;\n",
              "      display: none;\n",
              "      fill: #1967D2;\n",
              "      height: 32px;\n",
              "      padding: 0 0 0 0;\n",
              "      width: 32px;\n",
              "    }\n",
              "\n",
              "    .colab-df-convert:hover {\n",
              "      background-color: #E2EBFA;\n",
              "      box-shadow: 0px 1px 2px rgba(60, 64, 67, 0.3), 0px 1px 3px 1px rgba(60, 64, 67, 0.15);\n",
              "      fill: #174EA6;\n",
              "    }\n",
              "\n",
              "    .colab-df-buttons div {\n",
              "      margin-bottom: 4px;\n",
              "    }\n",
              "\n",
              "    [theme=dark] .colab-df-convert {\n",
              "      background-color: #3B4455;\n",
              "      fill: #D2E3FC;\n",
              "    }\n",
              "\n",
              "    [theme=dark] .colab-df-convert:hover {\n",
              "      background-color: #434B5C;\n",
              "      box-shadow: 0px 1px 3px 1px rgba(0, 0, 0, 0.15);\n",
              "      filter: drop-shadow(0px 1px 2px rgba(0, 0, 0, 0.3));\n",
              "      fill: #FFFFFF;\n",
              "    }\n",
              "  </style>\n",
              "\n",
              "    <script>\n",
              "      const buttonEl =\n",
              "        document.querySelector('#df-6acd9626-12d4-4343-bcb1-4a915d2ab6d6 button.colab-df-convert');\n",
              "      buttonEl.style.display =\n",
              "        google.colab.kernel.accessAllowed ? 'block' : 'none';\n",
              "\n",
              "      async function convertToInteractive(key) {\n",
              "        const element = document.querySelector('#df-6acd9626-12d4-4343-bcb1-4a915d2ab6d6');\n",
              "        const dataTable =\n",
              "          await google.colab.kernel.invokeFunction('convertToInteractive',\n",
              "                                                    [key], {});\n",
              "        if (!dataTable) return;\n",
              "\n",
              "        const docLinkHtml = 'Like what you see? Visit the ' +\n",
              "          '<a target=\"_blank\" href=https://colab.research.google.com/notebooks/data_table.ipynb>data table notebook</a>'\n",
              "          + ' to learn more about interactive tables.';\n",
              "        element.innerHTML = '';\n",
              "        dataTable['output_type'] = 'display_data';\n",
              "        await google.colab.output.renderOutput(dataTable, element);\n",
              "        const docLink = document.createElement('div');\n",
              "        docLink.innerHTML = docLinkHtml;\n",
              "        element.appendChild(docLink);\n",
              "      }\n",
              "    </script>\n",
              "  </div>\n",
              "\n",
              "\n",
              "    </div>\n",
              "  </div>\n"
            ],
            "application/vnd.google.colaboratory.intrinsic+json": {
              "type": "dataframe",
              "repr_error": "Out of range float values are not JSON compliant: nan"
            }
          },
          "metadata": {},
          "execution_count": 14
        }
      ]
    },
    {
      "cell_type": "markdown",
      "source": [
        "### **5) Examining the number of transactions per date to remove any outliers**"
      ],
      "metadata": {
        "id": "qSxfMNhpOjzk"
      }
    },
    {
      "cell_type": "code",
      "source": [
        "nb=transaction['DATE'].unique()\n",
        "print(nb.size)"
      ],
      "metadata": {
        "colab": {
          "base_uri": "https://localhost:8080/"
        },
        "id": "58CWW-luYuYs",
        "outputId": "1df72d26-c12f-4a08-9efc-4d5c90165e1e"
      },
      "execution_count": null,
      "outputs": [
        {
          "output_type": "stream",
          "name": "stdout",
          "text": [
            "364\n"
          ]
        }
      ]
    },
    {
      "cell_type": "markdown",
      "source": [
        "there is a missing value, so we will  create a column of dates that includes every day from 1 Jul 2018 to 30 Jun 2019, and join it onto the data to fill in the missing day.  \n"
      ],
      "metadata": {
        "id": "Ui8RGFDMSKHc"
      }
    },
    {
      "cell_type": "code",
      "source": [
        "dates_df=pd.DataFrame({'DATE': pd.date_range(start='2018-07-01', end='2019-06-30')})\n",
        "transaction=pd.merge(dates_df,transaction,on='DATE', how='left')"
      ],
      "metadata": {
        "id": "K_lfY2smUy-z"
      },
      "execution_count": null,
      "outputs": []
    },
    {
      "cell_type": "code",
      "source": [
        "dates_count= transaction['DATE'].value_counts()\n",
        "print(dates_count.count())"
      ],
      "metadata": {
        "colab": {
          "base_uri": "https://localhost:8080/"
        },
        "id": "Xdoc6kLkO_K7",
        "outputId": "435e6bb9-f8e1-4727-b027-732f441ff4c7"
      },
      "execution_count": null,
      "outputs": [
        {
          "output_type": "stream",
          "name": "stdout",
          "text": [
            "365\n"
          ]
        }
      ]
    },
    {
      "cell_type": "markdown",
      "source": [
        "We can see that there is an increase in purchases in December and a break in late December."
      ],
      "metadata": {
        "id": "V_63_Q9l06_h"
      }
    },
    {
      "cell_type": "code",
      "source": [
        "# creer un graphe\n",
        "date_group=transaction.groupby('DATE').size()\n",
        "plt.plot(date_group.index, date_group)\n",
        "plt.xlabel('DATE')\n",
        "plt.ylabel('nb_transaction')\n",
        "plt.show()"
      ],
      "metadata": {
        "colab": {
          "base_uri": "https://localhost:8080/",
          "height": 449
        },
        "id": "noLGmkrqSPmc",
        "outputId": "24507779-9653-4b8a-eb9d-8a48d157118f"
      },
      "execution_count": null,
      "outputs": [
        {
          "output_type": "display_data",
          "data": {
            "text/plain": [
              "<Figure size 640x480 with 1 Axes>"
            ],
            "image/png": "[encoded data removed]"
          },
          "metadata": {}
        }
      ]
    },
    {
      "cell_type": "markdown",
      "source": [
        "**Let's zoom in on this.**"
      ],
      "metadata": {
        "id": "VSXWzrRn1Di2"
      }
    },
    {
      "cell_type": "code",
      "source": [
        "decembre_data=transaction[transaction['DATE'].dt.month==12]\n",
        "decembre_group=decembre_data.groupby(decembre_data['DATE'].dt.date).size()\n",
        "plt.plot(decembre_group.index, decembre_group)\n",
        "plt.xlabel('DATE')\n",
        "plt.ylabel('nb_transaction')\n",
        "plt.show()"
      ],
      "metadata": {
        "colab": {
          "base_uri": "https://localhost:8080/",
          "height": 449
        },
        "id": "4SjQT_2b1ID7",
        "outputId": "82f073eb-8f1b-4ead-8230-9a274c4fdde1"
      },
      "execution_count": null,
      "outputs": [
        {
          "output_type": "display_data",
          "data": {
            "text/plain": [
              "<Figure size 640x480 with 1 Axes>"
            ],
            "image/png": "[encoded data removed]"
          },
          "metadata": {}
        }
      ]
    },
    {
      "cell_type": "markdown",
      "source": [
        "We can see that the increase in sales occurs in the lead-up to Christmas and that there are zero sales on Christmas day itself. This is due to shops being closed on Christmas day."
      ],
      "metadata": {
        "id": "pebEZ1Y93gTW"
      }
    },
    {
      "cell_type": "markdown",
      "source": [
        "**Now that we are satisfied that the data no longer has outliers, we can move on to creating other features**"
      ],
      "metadata": {
        "id": "g1KTa7M-3zI4"
      }
    },
    {
      "cell_type": "markdown",
      "source": [
        "### Pack size"
      ],
      "metadata": {
        "id": "37m68MPb38Nd"
      }
    },
    {
      "cell_type": "code",
      "source": [
        "def parse_number(text):\n",
        "    # Use regex to find a number in the text\n",
        "    match = re.search(r'\\d+', str(text))\n",
        "    if match:\n",
        "        return int(match.group())\n",
        "    else:\n",
        "        return None\n",
        "\n",
        "# Example usage\n",
        "transaction['PACK_SIZE'] = transaction['PROD_NAME'].apply(parse_number)"
      ],
      "metadata": {
        "id": "wL3Zk_mU34iz"
      },
      "execution_count": null,
      "outputs": []
    },
    {
      "cell_type": "markdown",
      "source": [
        " a histogram showing the number of transactions by pack size."
      ],
      "metadata": {
        "id": "URMQRW_R9Ozp"
      }
    },
    {
      "cell_type": "code",
      "source": [
        "color=['#ed6a5a','#9bc1bc','#427aa1','#d1495b','#0d3b66','#ead7c3']\n",
        "pack_group=transaction.groupby('PACK_SIZE').size()\n",
        "plt.bar(pack_group.index,pack_group, color=color)\n",
        "plt.title(\"number of transactions by pack size\")\n",
        "plt.xlabel(\"pack size\")\n",
        "plt.ylabel(\"nb_purchase\")\n",
        "plt.show()"
      ],
      "metadata": {
        "colab": {
          "base_uri": "https://localhost:8080/",
          "height": 472
        },
        "id": "neKcOi3j9A3R",
        "outputId": "e686057a-cdab-4be2-d757-363de8e579c6"
      },
      "execution_count": null,
      "outputs": [
        {
          "output_type": "display_data",
          "data": {
            "text/plain": [
              "<Figure size 640x480 with 1 Axes>"
            ],
            "image/png": "[encoded data removed]"
          },
          "metadata": {}
        }
      ]
    },
    {
      "cell_type": "code",
      "source": [
        "customer.info()\n",
        "#customer.describe()"
      ],
      "metadata": {
        "id": "GXklupEwG87u",
        "colab": {
          "base_uri": "https://localhost:8080/"
        },
        "outputId": "1f54389d-4b05-40c5-bdb1-357d657af03f"
      },
      "execution_count": null,
      "outputs": [
        {
          "output_type": "stream",
          "name": "stdout",
          "text": [
            "<class 'pandas.core.frame.DataFrame'>\n",
            "RangeIndex: 72637 entries, 0 to 72636\n",
            "Data columns (total 3 columns):\n",
            " #   Column            Non-Null Count  Dtype \n",
            "---  ------            --------------  ----- \n",
            " 0   LYLTY_CARD_NBR    72637 non-null  int64 \n",
            " 1   LIFESTAGE         72637 non-null  object\n",
            " 2   PREMIUM_CUSTOMER  72637 non-null  object\n",
            "dtypes: int64(1), object(2)\n",
            "memory usage: 1.7+ MB\n"
          ]
        }
      ]
    },
    {
      "cell_type": "markdown",
      "source": [
        "###Brands"
      ],
      "metadata": {
        "id": "WAd5554YADLs"
      }
    },
    {
      "cell_type": "code",
      "source": [
        "def parse_brand(text):\n",
        "    brand=str(text).split()[0]\n",
        "    return brand\n",
        "\n",
        "transaction['BRAND'] = transaction['PROD_NAME'].apply(parse_brand)"
      ],
      "metadata": {
        "id": "lFv8zI1YAJZS"
      },
      "execution_count": null,
      "outputs": []
    },
    {
      "cell_type": "code",
      "source": [
        "transaction.PROD_NAME.unique()"
      ],
      "metadata": {
        "id": "ZlioR_r4ElAN",
        "colab": {
          "base_uri": "https://localhost:8080/"
        },
        "outputId": "42f57c69-ca5f-476d-9e43-cf5984cd6f58"
      },
      "execution_count": null,
      "outputs": [
        {
          "output_type": "execute_result",
          "data": {
            "text/plain": [
              "array(['thins chips light  tangy 175g',\n",
              "       'thins potato chips  hot  spicy 175g',\n",
              "       'ww sour cream onionstacked chips 160g',\n",
              "       'smiths crinkle cut  chips chsonion170g',\n",
              "       'smiths crinkle chips salt  vinegar 330g',\n",
              "       'cobs popd sour crm  chives chips 110g',\n",
              "       'ww supreme cheese   corn chips 200g',\n",
              "       'doritos corn chips  cheese supreme 170g',\n",
              "       'doritos corn chips  original 170g',\n",
              "       'thins chips salt   vinegar 175g',\n",
              "       'doritos corn chips  nacho cheese 170g',\n",
              "       'ww original stacked chips 160g',\n",
              "       'thins chips seasonedchicken 175g',\n",
              "       'french fries potato chips 175g',\n",
              "       'smiths crinkle cut  chips chicken 170g',\n",
              "       'ww original corn    chips 200g',\n",
              "       'cobs popd swtchlli srcream chips 110g',\n",
              "       'thins chips         originl saltd 175g',\n",
              "       'cobs popd sea salt  chips 110g',\n",
              "       'smiths crinkle cut  chips original 170g',\n",
              "       'smiths crinkle cut  chips barbecue 170g', nan], dtype=object)"
            ]
          },
          "metadata": {},
          "execution_count": 24
        }
      ]
    },
    {
      "cell_type": "markdown",
      "source": [
        "### ***Merging the 2 datasets***\n",
        "\n",
        "> we ll kwwp this columns for our analytics:                                 \n",
        "  PROD_NAME, PROD_QTY, TOT_SALES, LIFESTAGE,\tPREMIUM_CUSTOME, DATE, PACK_SIZE, BRAND.\n",
        "\n",
        "\n",
        "\n",
        "\n",
        "\n"
      ],
      "metadata": {
        "id": "BeHhBY62lNmM"
      }
    },
    {
      "cell_type": "code",
      "source": [
        "df=pd.merge(customer , transaction,on=\"LYLTY_CARD_NBR\",how=\"inner\")\n",
        "df=df.drop(columns=[\"STORE_NBR\",\"TXN_ID\",\"PROD_NBR\"])\n",
        "df.head()"
      ],
      "metadata": {
        "id": "RwBWk440Ig9e",
        "colab": {
          "base_uri": "https://localhost:8080/",
          "height": 206
        },
        "outputId": "34be7f5a-63c1-49b4-8a24-c71a19939f92"
      },
      "execution_count": null,
      "outputs": [
        {
          "output_type": "execute_result",
          "data": {
            "text/plain": [
              "   LYLTY_CARD_NBR              LIFESTAGE PREMIUM_CUSTOMER       DATE  \\\n",
              "0            1004  OLDER SINGLES/COUPLES       Mainstream 2018-11-02   \n",
              "1            1011  OLDER SINGLES/COUPLES       Mainstream 2018-12-19   \n",
              "2            1027         OLDER FAMILIES          Premium 2018-08-13   \n",
              "3            1034               RETIREES          Premium 2019-03-24   \n",
              "4            1043         YOUNG FAMILIES           Budget 2019-02-16   \n",
              "\n",
              "                                 PROD_NAME  PROD_QTY  TOT_SALES  PACK_SIZE  \\\n",
              "0           ww original stacked chips 160g       1.0        1.9      160.0   \n",
              "1  smiths crinkle cut  chips barbecue 170g       1.0        2.9      170.0   \n",
              "2  smiths crinkle chips salt  vinegar 330g       1.0        5.7      330.0   \n",
              "3           cobs popd sea salt  chips 110g       1.0        3.8      110.0   \n",
              "4         thins chips seasonedchicken 175g       1.0        3.3      175.0   \n",
              "\n",
              "    BRAND  \n",
              "0      ww  \n",
              "1  smiths  \n",
              "2  smiths  \n",
              "3    cobs  \n",
              "4   thins  "
            ],
            "text/html": [
              "\n",
              "  <div id=\"df-53a072db-a7b0-41d7-a27b-954d4b14b39d\" class=\"colab-df-container\">\n",
              "    <div>\n",
              "<style scoped>\n",
              "    .dataframe tbody tr th:only-of-type {\n",
              "        vertical-align: middle;\n",
              "    }\n",
              "\n",
              "    .dataframe tbody tr th {\n",
              "        vertical-align: top;\n",
              "    }\n",
              "\n",
              "    .dataframe thead th {\n",
              "        text-align: right;\n",
              "    }\n",
              "</style>\n",
              "<table border=\"1\" class=\"dataframe\">\n",
              "  <thead>\n",
              "    <tr style=\"text-align: right;\">\n",
              "      <th></th>\n",
              "      <th>LYLTY_CARD_NBR</th>\n",
              "      <th>LIFESTAGE</th>\n",
              "      <th>PREMIUM_CUSTOMER</th>\n",
              "      <th>DATE</th>\n",
              "      <th>PROD_NAME</th>\n",
              "      <th>PROD_QTY</th>\n",
              "      <th>TOT_SALES</th>\n",
              "      <th>PACK_SIZE</th>\n",
              "      <th>BRAND</th>\n",
              "    </tr>\n",
              "  </thead>\n",
              "  <tbody>\n",
              "    <tr>\n",
              "      <th>0</th>\n",
              "      <td>1004</td>\n",
              "      <td>OLDER SINGLES/COUPLES</td>\n",
              "      <td>Mainstream</td>\n",
              "      <td>2018-11-02</td>\n",
              "      <td>ww original stacked chips 160g</td>\n",
              "      <td>1.0</td>\n",
              "      <td>1.9</td>\n",
              "      <td>160.0</td>\n",
              "      <td>ww</td>\n",
              "    </tr>\n",
              "    <tr>\n",
              "      <th>1</th>\n",
              "      <td>1011</td>\n",
              "      <td>OLDER SINGLES/COUPLES</td>\n",
              "      <td>Mainstream</td>\n",
              "      <td>2018-12-19</td>\n",
              "      <td>smiths crinkle cut  chips barbecue 170g</td>\n",
              "      <td>1.0</td>\n",
              "      <td>2.9</td>\n",
              "      <td>170.0</td>\n",
              "      <td>smiths</td>\n",
              "    </tr>\n",
              "    <tr>\n",
              "      <th>2</th>\n",
              "      <td>1027</td>\n",
              "      <td>OLDER FAMILIES</td>\n",
              "      <td>Premium</td>\n",
              "      <td>2018-08-13</td>\n",
              "      <td>smiths crinkle chips salt  vinegar 330g</td>\n",
              "      <td>1.0</td>\n",
              "      <td>5.7</td>\n",
              "      <td>330.0</td>\n",
              "      <td>smiths</td>\n",
              "    </tr>\n",
              "    <tr>\n",
              "      <th>3</th>\n",
              "      <td>1034</td>\n",
              "      <td>RETIREES</td>\n",
              "      <td>Premium</td>\n",
              "      <td>2019-03-24</td>\n",
              "      <td>cobs popd sea salt  chips 110g</td>\n",
              "      <td>1.0</td>\n",
              "      <td>3.8</td>\n",
              "      <td>110.0</td>\n",
              "      <td>cobs</td>\n",
              "    </tr>\n",
              "    <tr>\n",
              "      <th>4</th>\n",
              "      <td>1043</td>\n",
              "      <td>YOUNG FAMILIES</td>\n",
              "      <td>Budget</td>\n",
              "      <td>2019-02-16</td>\n",
              "      <td>thins chips seasonedchicken 175g</td>\n",
              "      <td>1.0</td>\n",
              "      <td>3.3</td>\n",
              "      <td>175.0</td>\n",
              "      <td>thins</td>\n",
              "    </tr>\n",
              "  </tbody>\n",
              "</table>\n",
              "</div>\n",
              "    <div class=\"colab-df-buttons\">\n",
              "\n",
              "  <div class=\"colab-df-container\">\n",
              "    <button class=\"colab-df-convert\" onclick=\"convertToInteractive('df-53a072db-a7b0-41d7-a27b-954d4b14b39d')\"\n",
              "            title=\"Convert this dataframe to an interactive table.\"\n",
              "            style=\"display:none;\">\n",
              "\n",
              "  <svg xmlns=\"http://www.w3.org/2000/svg\" height=\"24px\" viewBox=\"0 -960 960 960\">\n",
              "    <path d=\"M120-120v-720h720v720H120Zm60-500h600v-160H180v160Zm220 220h160v-160H400v160Zm0 220h160v-160H400v160ZM180-400h160v-160H180v160Zm440 0h160v-160H620v160ZM180-180h160v-160H180v160Zm440 0h160v-160H620v160Z\"/>\n",
              "  </svg>\n",
              "    </button>\n",
              "\n",
              "  <style>\n",
              "    .colab-df-container {\n",
              "      display:flex;\n",
              "      gap: 12px;\n",
              "    }\n",
              "\n",
              "    .colab-df-convert {\n",
              "      background-color: #E8F0FE;\n",
              "      border: none;\n",
              "      border-radius: 50%;\n",
              "      cursor: pointer;\n",
              "      display: none;\n",
              "      fill: #1967D2;\n",
              "      height: 32px;\n",
              "      padding: 0 0 0 0;\n",
              "      width: 32px;\n",
              "    }\n",
              "\n",
              "    .colab-df-convert:hover {\n",
              "      background-color: #E2EBFA;\n",
              "      box-shadow: 0px 1px 2px rgba(60, 64, 67, 0.3), 0px 1px 3px 1px rgba(60, 64, 67, 0.15);\n",
              "      fill: #174EA6;\n",
              "    }\n",
              "\n",
              "    .colab-df-buttons div {\n",
              "      margin-bottom: 4px;\n",
              "    }\n",
              "\n",
              "    [theme=dark] .colab-df-convert {\n",
              "      background-color: #3B4455;\n",
              "      fill: #D2E3FC;\n",
              "    }\n",
              "\n",
              "    [theme=dark] .colab-df-convert:hover {\n",
              "      background-color: #434B5C;\n",
              "      box-shadow: 0px 1px 3px 1px rgba(0, 0, 0, 0.15);\n",
              "      filter: drop-shadow(0px 1px 2px rgba(0, 0, 0, 0.3));\n",
              "      fill: #FFFFFF;\n",
              "    }\n",
              "  </style>\n",
              "\n",
              "    <script>\n",
              "      const buttonEl =\n",
              "        document.querySelector('#df-53a072db-a7b0-41d7-a27b-954d4b14b39d button.colab-df-convert');\n",
              "      buttonEl.style.display =\n",
              "        google.colab.kernel.accessAllowed ? 'block' : 'none';\n",
              "\n",
              "      async function convertToInteractive(key) {\n",
              "        const element = document.querySelector('#df-53a072db-a7b0-41d7-a27b-954d4b14b39d');\n",
              "        const dataTable =\n",
              "          await google.colab.kernel.invokeFunction('convertToInteractive',\n",
              "                                                    [key], {});\n",
              "        if (!dataTable) return;\n",
              "\n",
              "        const docLinkHtml = 'Like what you see? Visit the ' +\n",
              "          '<a target=\"_blank\" href=https://colab.research.google.com/notebooks/data_table.ipynb>data table notebook</a>'\n",
              "          + ' to learn more about interactive tables.';\n",
              "        element.innerHTML = '';\n",
              "        dataTable['output_type'] = 'display_data';\n",
              "        await google.colab.output.renderOutput(dataTable, element);\n",
              "        const docLink = document.createElement('div');\n",
              "        docLink.innerHTML = docLinkHtml;\n",
              "        element.appendChild(docLink);\n",
              "      }\n",
              "    </script>\n",
              "  </div>\n",
              "\n",
              "\n",
              "<div id=\"df-ffcc397d-e70c-4cfa-ae5d-f043825e19f2\">\n",
              "  <button class=\"colab-df-quickchart\" onclick=\"quickchart('df-ffcc397d-e70c-4cfa-ae5d-f043825e19f2')\"\n",
              "            title=\"Suggest charts\"\n",
              "            style=\"display:none;\">\n",
              "\n",
              "<svg xmlns=\"http://www.w3.org/2000/svg\" height=\"24px\"viewBox=\"0 0 24 24\"\n",
              "     width=\"24px\">\n",
              "    <g>\n",
              "        <path d=\"M19 3H5c-1.1 0-2 .9-2 2v14c0 1.1.9 2 2 2h14c1.1 0 2-.9 2-2V5c0-1.1-.9-2-2-2zM9 17H7v-7h2v7zm4 0h-2V7h2v10zm4 0h-2v-4h2v4z\"/>\n",
              "    </g>\n",
              "</svg>\n",
              "  </button>\n",
              "\n",
              "<style>\n",
              "  .colab-df-quickchart {\n",
              "      --bg-color: #E8F0FE;\n",
              "      --fill-color: #1967D2;\n",
              "      --hover-bg-color: #E2EBFA;\n",
              "      --hover-fill-color: #174EA6;\n",
              "      --disabled-fill-color: #AAA;\n",
              "      --disabled-bg-color: #DDD;\n",
              "  }\n",
              "\n",
              "  [theme=dark] .colab-df-quickchart {\n",
              "      --bg-color: #3B4455;\n",
              "      --fill-color: #D2E3FC;\n",
              "      --hover-bg-color: #434B5C;\n",
              "      --hover-fill-color: #FFFFFF;\n",
              "      --disabled-bg-color: #3B4455;\n",
              "      --disabled-fill-color: #666;\n",
              "  }\n",
              "\n",
              "  .colab-df-quickchart {\n",
              "    background-color: var(--bg-color);\n",
              "    border: none;\n",
              "    border-radius: 50%;\n",
              "    cursor: pointer;\n",
              "    display: none;\n",
              "    fill: var(--fill-color);\n",
              "    height: 32px;\n",
              "    padding: 0;\n",
              "    width: 32px;\n",
              "  }\n",
              "\n",
              "  .colab-df-quickchart:hover {\n",
              "    background-color: var(--hover-bg-color);\n",
              "    box-shadow: 0 1px 2px rgba(60, 64, 67, 0.3), 0 1px 3px 1px rgba(60, 64, 67, 0.15);\n",
              "    fill: var(--button-hover-fill-color);\n",
              "  }\n",
              "\n",
              "  .colab-df-quickchart-complete:disabled,\n",
              "  .colab-df-quickchart-complete:disabled:hover {\n",
              "    background-color: var(--disabled-bg-color);\n",
              "    fill: var(--disabled-fill-color);\n",
              "    box-shadow: none;\n",
              "  }\n",
              "\n",
              "  .colab-df-spinner {\n",
              "    border: 2px solid var(--fill-color);\n",
              "    border-color: transparent;\n",
              "    border-bottom-color: var(--fill-color);\n",
              "    animation:\n",
              "      spin 1s steps(1) infinite;\n",
              "  }\n",
              "\n",
              "  @keyframes spin {\n",
              "    0% {\n",
              "      border-color: transparent;\n",
              "      border-bottom-color: var(--fill-color);\n",
              "      border-left-color: var(--fill-color);\n",
              "    }\n",
              "    20% {\n",
              "      border-color: transparent;\n",
              "      border-left-color: var(--fill-color);\n",
              "      border-top-color: var(--fill-color);\n",
              "    }\n",
              "    30% {\n",
              "      border-color: transparent;\n",
              "      border-left-color: var(--fill-color);\n",
              "      border-top-color: var(--fill-color);\n",
              "      border-right-color: var(--fill-color);\n",
              "    }\n",
              "    40% {\n",
              "      border-color: transparent;\n",
              "      border-right-color: var(--fill-color);\n",
              "      border-top-color: var(--fill-color);\n",
              "    }\n",
              "    60% {\n",
              "      border-color: transparent;\n",
              "      border-right-color: var(--fill-color);\n",
              "    }\n",
              "    80% {\n",
              "      border-color: transparent;\n",
              "      border-right-color: var(--fill-color);\n",
              "      border-bottom-color: var(--fill-color);\n",
              "    }\n",
              "    90% {\n",
              "      border-color: transparent;\n",
              "      border-bottom-color: var(--fill-color);\n",
              "    }\n",
              "  }\n",
              "</style>\n",
              "\n",
              "  <script>\n",
              "    async function quickchart(key) {\n",
              "      const quickchartButtonEl =\n",
              "        document.querySelector('#' + key + ' button');\n",
              "      quickchartButtonEl.disabled = true;  // To prevent multiple clicks.\n",
              "      quickchartButtonEl.classList.add('colab-df-spinner');\n",
              "      try {\n",
              "        const charts = await google.colab.kernel.invokeFunction(\n",
              "            'suggestCharts', [key], {});\n",
              "      } catch (error) {\n",
              "        console.error('Error during call to suggestCharts:', error);\n",
              "      }\n",
              "      quickchartButtonEl.classList.remove('colab-df-spinner');\n",
              "      quickchartButtonEl.classList.add('colab-df-quickchart-complete');\n",
              "    }\n",
              "    (() => {\n",
              "      let quickchartButtonEl =\n",
              "        document.querySelector('#df-ffcc397d-e70c-4cfa-ae5d-f043825e19f2 button');\n",
              "      quickchartButtonEl.style.display =\n",
              "        google.colab.kernel.accessAllowed ? 'block' : 'none';\n",
              "    })();\n",
              "  </script>\n",
              "</div>\n",
              "\n",
              "    </div>\n",
              "  </div>\n"
            ],
            "application/vnd.google.colaboratory.intrinsic+json": {
              "type": "dataframe",
              "variable_name": "df",
              "summary": "{\n  \"name\": \"df\",\n  \"rows\": 49770,\n  \"fields\": [\n    {\n      \"column\": \"LYLTY_CARD_NBR\",\n      \"properties\": {\n        \"dtype\": \"number\",\n        \"std\": 78918,\n        \"min\": 1004,\n        \"max\": 2373711,\n        \"num_unique_values\": 34281,\n        \"samples\": [\n          238084,\n          51432,\n          15206\n        ],\n        \"semantic_type\": \"\",\n        \"description\": \"\"\n      }\n    },\n    {\n      \"column\": \"LIFESTAGE\",\n      \"properties\": {\n        \"dtype\": \"category\",\n        \"num_unique_values\": 7,\n        \"samples\": [\n          \"OLDER SINGLES/COUPLES\",\n          \"OLDER FAMILIES\",\n          \"MIDAGE SINGLES/COUPLES\"\n        ],\n        \"semantic_type\": \"\",\n        \"description\": \"\"\n      }\n    },\n    {\n      \"column\": \"PREMIUM_CUSTOMER\",\n      \"properties\": {\n        \"dtype\": \"category\",\n        \"num_unique_values\": 3,\n        \"samples\": [\n          \"Mainstream\",\n          \"Premium\",\n          \"Budget\"\n        ],\n        \"semantic_type\": \"\",\n        \"description\": \"\"\n      }\n    },\n    {\n      \"column\": \"DATE\",\n      \"properties\": {\n        \"dtype\": \"date\",\n        \"min\": \"2018-07-01 00:00:00\",\n        \"max\": \"2019-06-30 00:00:00\",\n        \"num_unique_values\": 364,\n        \"samples\": [\n          \"2018-10-07 00:00:00\",\n          \"2019-02-28 00:00:00\",\n          \"2018-11-27 00:00:00\"\n        ],\n        \"semantic_type\": \"\",\n        \"description\": \"\"\n      }\n    },\n    {\n      \"column\": \"PROD_NAME\",\n      \"properties\": {\n        \"dtype\": \"category\",\n        \"num_unique_values\": 21,\n        \"samples\": [\n          \"ww original stacked chips 160g\",\n          \"cobs popd sour crm  chives chips 110g\",\n          \"ww sour cream onionstacked chips 160g\"\n        ],\n        \"semantic_type\": \"\",\n        \"description\": \"\"\n      }\n    },\n    {\n      \"column\": \"PROD_QTY\",\n      \"properties\": {\n        \"dtype\": \"number\",\n        \"std\": 0.3400372358987106,\n        \"min\": 1.0,\n        \"max\": 5.0,\n        \"num_unique_values\": 5,\n        \"samples\": [\n          2.0,\n          3.0,\n          4.0\n        ],\n        \"semantic_type\": \"\",\n        \"description\": \"\"\n      }\n    },\n    {\n      \"column\": \"TOT_SALES\",\n      \"properties\": {\n        \"dtype\": \"number\",\n        \"std\": 2.1550604307612224,\n        \"min\": 1.9,\n        \"max\": 28.5,\n        \"num_unique_values\": 28,\n        \"samples\": [\n          7.6,\n          9.0,\n          6.6\n        ],\n        \"semantic_type\": \"\",\n        \"description\": \"\"\n      }\n    },\n    {\n      \"column\": \"PACK_SIZE\",\n      \"properties\": {\n        \"dtype\": \"number\",\n        \"std\": 49.11020747112623,\n        \"min\": 110.0,\n        \"max\": 330.0,\n        \"num_unique_values\": 6,\n        \"samples\": [\n          160.0,\n          170.0,\n          200.0\n        ],\n        \"semantic_type\": \"\",\n        \"description\": \"\"\n      }\n    },\n    {\n      \"column\": \"BRAND\",\n      \"properties\": {\n        \"dtype\": \"category\",\n        \"num_unique_values\": 6,\n        \"samples\": [\n          \"ww\",\n          \"smiths\",\n          \"french\"\n        ],\n        \"semantic_type\": \"\",\n        \"description\": \"\"\n      }\n    }\n  ]\n}"
            }
          },
          "metadata": {},
          "execution_count": 25
        }
      ]
    },
    {
      "cell_type": "code",
      "source": [
        "df.info()"
      ],
      "metadata": {
        "id": "GiOUC_CnZ2oF",
        "colab": {
          "base_uri": "https://localhost:8080/"
        },
        "outputId": "23c98cd2-ea56-4ab7-d0e0-9d8c7789a3aa"
      },
      "execution_count": null,
      "outputs": [
        {
          "output_type": "stream",
          "name": "stdout",
          "text": [
            "<class 'pandas.core.frame.DataFrame'>\n",
            "Int64Index: 49770 entries, 0 to 49769\n",
            "Data columns (total 9 columns):\n",
            " #   Column            Non-Null Count  Dtype         \n",
            "---  ------            --------------  -----         \n",
            " 0   LYLTY_CARD_NBR    49770 non-null  int64         \n",
            " 1   LIFESTAGE         49770 non-null  object        \n",
            " 2   PREMIUM_CUSTOMER  49770 non-null  object        \n",
            " 3   DATE              49770 non-null  datetime64[ns]\n",
            " 4   PROD_NAME         49770 non-null  object        \n",
            " 5   PROD_QTY          49770 non-null  float64       \n",
            " 6   TOT_SALES         49770 non-null  float64       \n",
            " 7   PACK_SIZE         49770 non-null  float64       \n",
            " 8   BRAND             49770 non-null  object        \n",
            "dtypes: datetime64[ns](1), float64(3), int64(1), object(4)\n",
            "memory usage: 3.8+ MB\n"
          ]
        }
      ]
    },
    {
      "cell_type": "markdown",
      "source": [
        "Create a column which contains the brand of the product, by extracting it from the product name"
      ],
      "metadata": {
        "id": "p0RtiUofA1oz"
      }
    },
    {
      "cell_type": "markdown",
      "source": [
        "transaction.BRAND.unique()"
      ],
      "metadata": {
        "id": "zAN2CpnKBYk3"
      }
    },
    {
      "cell_type": "markdown",
      "source": [
        "# **visualising the data**"
      ],
      "metadata": {
        "id": "iX5qaec9nefm"
      }
    },
    {
      "cell_type": "markdown",
      "source": [
        "#### **Total sales by LIFESTAGE and PREMIUM_CUSTOMER**"
      ],
      "metadata": {
        "id": "Z6OkqcCFMi0a"
      }
    },
    {
      "cell_type": "code",
      "source": [
        "sales=df.groupby(['LIFESTAGE','PREMIUM_CUSTOMER'])['TOT_SALES'].sum().unstack()\n",
        "colors_1 = ['#e9edc9', 'skyblue', 'lightcoral']\n",
        "sales.plot(kind='bar', figsize=(14,7),color=colors_1)\n",
        "plt.ylabel('Total Sales')\n",
        "plt.xlabel('Total Sales by LIFESTAGE and PREMUIM_COSTUMER')\n",
        "plt.legend(title='PREMIUM_CUSTOMER', loc='upper left')\n",
        "plt.show()"
      ],
      "metadata": {
        "colab": {
          "base_uri": "https://localhost:8080/",
          "height": 848
        },
        "id": "R8onLmN9RirM",
        "outputId": "a483c91d-f558-4f73-9597-1c49fbff285c"
      },
      "execution_count": null,
      "outputs": [
        {
          "output_type": "stream",
          "name": "stderr",
          "text": [
            "/usr/local/lib/python3.10/dist-packages/ipykernel/ipkernel.py:283: DeprecationWarning: `should_run_async` will not call `transform_cell` automatically in the future. Please pass the result to `transformed_cell` argument and any exception that happen during thetransform in `preprocessing_exc_tuple` in IPython 7.17 and above.\n",
            "  and should_run_async(code)\n"
          ]
        },
        {
          "output_type": "display_data",
          "data": {
            "text/plain": [
              "<Figure size 1400x700 with 1 Axes>"
            ],
            "image/png": "[encoded data removed]"
          },
          "metadata": {}
        }
      ]
    },
    {
      "cell_type": "markdown",
      "source": [
        "Sales are coming mainly from Budget - older families, Mainstream - young singles/couples, and Mainstream - retirees"
      ],
      "metadata": {
        "id": "1KS2tNEu-fy0"
      }
    },
    {
      "cell_type": "markdown",
      "source": [
        "#### **Number of customers by LIFESTAGE and PREMIUM_CUSTOMER**\n",
        "\n",
        "\n",
        "\n"
      ],
      "metadata": {
        "id": "Yl0dUky-JdRm"
      }
    },
    {
      "cell_type": "code",
      "source": [
        "sales=df.groupby(['LIFESTAGE','PREMIUM_CUSTOMER']).size().unstack()\n",
        "colors_1 = ['#e9edc9', 'skyblue', 'lightcoral']\n",
        "sales.plot(kind='bar', figsize=(14,7),color=colors_1)\n",
        "plt.ylabel('nb_costumers')\n",
        "plt.xlabel('')\n",
        "plt.title('Numbre of costumers by LIFESTAGE and PREMUIM_COSTUMER ')\n",
        "plt.legend(title='PREMIUM_CUSTOMER', loc='upper left')\n",
        "plt.show()"
      ],
      "metadata": {
        "colab": {
          "base_uri": "https://localhost:8080/",
          "height": 446
        },
        "id": "hu9VfhjXJjRv",
        "outputId": "a831cb3a-73b9-4d18-b945-3c552bb148d7"
      },
      "execution_count": null,
      "outputs": [
        {
          "output_type": "display_data",
          "data": {
            "text/plain": [
              "<Figure size 1400x700 with 1 Axes>"
            ],
            "image/png": "[encoded data removed]"
          },
          "metadata": {}
        }
      ]
    },
    {
      "cell_type": "markdown",
      "source": [
        "There are more Mainstream - young singles/couples and Mainstream - retirees who buy chips. This contributes to there being more sales to these customer segments but this is not a major driver for the Budget - Older families segment. Higher sales may also be driven by more units of chips being bought per customer. Let's have a look at this next."
      ],
      "metadata": {
        "id": "LDHI_Tly-jee"
      }
    },
    {
      "cell_type": "markdown",
      "source": [
        "#### **Average number of units per customer by LIFESTAGE and PREMIUM_CUSTOMER**"
      ],
      "metadata": {
        "id": "mS11LkbsLQ2B"
      }
    },
    {
      "cell_type": "code",
      "source": [
        "grouped=df.groupby(['LIFESTAGE','PREMIUM_CUSTOMER'])\n",
        "total_unit=grouped['TOT_SALES'].sum()\n",
        "tot_costumers=grouped['LYLTY_CARD_NBR'].nunique()\n",
        "averge_unit_per_costumers=total_unit/tot_costumers\n",
        "averge_unit_per_costumers.unstack().plot(kind='bar',figsize=(16,5), color=colors_1)\n",
        "plt.ylabel('Average Units per Customer')\n",
        "plt.xlabel('')\n",
        "plt.title('Averge unit per costumers ')\n",
        "plt.legend(title='PREMIUM_CUSTOMER', loc='lower left')\n",
        "plt.show()"
      ],
      "metadata": {
        "colab": {
          "base_uri": "https://localhost:8080/",
          "height": 325
        },
        "id": "mlMWr9-5Lwi6",
        "outputId": "c6e49e96-b33c-44a6-9e53-258a7e639f21"
      },
      "execution_count": null,
      "outputs": [
        {
          "output_type": "display_data",
          "data": {
            "text/plain": [
              "<Figure size 1600x500 with 1 Axes>"
            ],
            "image/png": "[encoded data removed]"
          },
          "metadata": {}
        }
      ]
    },
    {
      "cell_type": "markdown",
      "source": [
        "Older families and young families in general buy more chips per customer"
      ],
      "metadata": {
        "id": "CHHBCYsz9nUu"
      }
    },
    {
      "cell_type": "markdown",
      "source": [
        "#### **Average price per unit by LIFESTAGE and PREMIUM_CUSTOMER**"
      ],
      "metadata": {
        "id": "aLHXRNaBV6ad"
      }
    },
    {
      "cell_type": "code",
      "source": [
        "grouped=df.groupby(['LIFESTAGE','PREMIUM_CUSTOMER'])\n",
        "total_price=grouped['TOT_SALES'].sum()\n",
        "tot_unit=grouped['PROD_QTY'].count()\n",
        "averge_price_per_unit=total_price/tot_unit\n",
        "averge_price_per_unit.unstack().plot(kind='bar',figsize=(16,5), color=colors_1)\n",
        "plt.ylabel('Average price')\n",
        "plt.xlabel('')\n",
        "plt.title('Average price per unit ')\n",
        "plt.legend(title='PREMIUM_CUSTOMER', loc='lower left')\n",
        "plt.show()"
      ],
      "metadata": {
        "colab": {
          "base_uri": "https://localhost:8080/",
          "height": 661
        },
        "id": "VfAZMpd4V8N0",
        "outputId": "46abc633-98aa-4470-f415-e0d6da751be4"
      },
      "execution_count": null,
      "outputs": [
        {
          "output_type": "display_data",
          "data": {
            "text/plain": [
              "<Figure size 1600x500 with 1 Axes>"
            ],
            "image/png": "[encoded data removed]"
          },
          "metadata": {}
        }
      ]
    },
    {
      "cell_type": "markdown",
      "source": [
        "Mainstream midage and young singles and couples are more willing to pay more per packet of chips compared to their budget and premium counterparts. This may be due to premium shoppers being more likely to buy healthy snacks and when they buy chips, this is mainly for entertainment purposes rather than their own consumption. This is also supported by there being fewer premium midage and young singles and couples buying chips compared to their mainstream counterparts."
      ],
      "metadata": {
        "id": "1ajT5UVB-D-P"
      }
    },
    {
      "cell_type": "markdown",
      "source": [
        "####**Independent t-test**"
      ],
      "metadata": {
        "id": "wohN7EasdiPK"
      }
    },
    {
      "cell_type": "markdown",
      "source": [
        " Perform an independent t-test between mainstream **vs** premium and budget midage"
      ],
      "metadata": {
        "id": "c3HOmuNhdqMq"
      }
    },
    {
      "cell_type": "code",
      "source": [
        "from scipy.stats import ttest_ind\n",
        "\n",
        "young_midage_couples = df.loc[df['LIFESTAGE'].isin(['YOUNG SINGLES/COUPLES','MIDAGE SINGLES/COUPLES'])]\n",
        "midage_couples = df.loc[df['LIFESTAGE'] == 'MIDAGE SINGLES/COUPLES']\n",
        "df['Unit_price']=df['TOT_SALES']/df['PROD_QTY']\n",
        "\n",
        "# YOUNG SINGLES/COUPLES\n",
        "mainstream = young_midage_couples.loc[young_midage_couples['PREMIUM_CUSTOMER'] == 'Mainstream']\n",
        "premium = young_midage_couples.loc[young_midage_couples['PREMIUM_CUSTOMER'].isin(['Budget', 'Premium'])]\n",
        "\n",
        "t_statistic, p_value = ttest_ind(mainstream['TOT_SALES'], premium['TOT_SALES'], equal_var=False)\n",
        "# Display results\n",
        "print(\"\\nResults for independant t-test:\")\n",
        "print(\"p-value:\", p_value)\n",
        "if p_value < 0.05:\n",
        "    print(\"There is a statistically significant difference between the groups.\\n\")\n",
        "else:\n",
        "    print(\"There is no statistically significant difference between the groups.\\n\")\n",
        "\n",
        "# higher price by unit\n",
        "if mainstream['Unit_price'].mean()> premium['Unit_price'].mean():\n",
        "  print(f\"The t-test results in a p-value of {p_value:.2e}, i.e. the unit price for mainstream, \\nyoung and mid-age singles and couples ARE significantly higher than that of budget or premium, young and midage singles and couples.\")\n",
        "else:\n",
        "  print(f\"The t-test results in a p-value of {p_value:.2e}, i.e. the unit price for mainstream, \\nyoung and mid-age singles and couples ARE NOT significantly higher than that of budget or premium, young and midage singles and couples.\")"
      ],
      "metadata": {
        "colab": {
          "base_uri": "https://localhost:8080/"
        },
        "id": "YxSPpniL3_-O",
        "outputId": "9f459f83-de5e-4157-ef60-a9d856bcdf32"
      },
      "execution_count": null,
      "outputs": [
        {
          "output_type": "stream",
          "name": "stdout",
          "text": [
            "\n",
            "Results for independant t-test:\n",
            "p-value: 1.4016850037848915e-59\n",
            "There is a statistically significant difference between the groups.\n",
            "\n",
            "The t-test results in a p-value of 1.40e-59, i.e. the unit price for mainstream, \n",
            "young and mid-age singles and couples ARE significantly higher than that of budget or premium, young and midage singles and couples.\n"
          ]
        }
      ]
    },
    {
      "cell_type": "markdown",
      "source": [
        "### **Deep dive into Mainstream, young singles/couples**\n",
        "what are brands that these two customer segments prefer more than others"
      ],
      "metadata": {
        "id": "qEC4xyfw1sX1"
      }
    },
    {
      "cell_type": "code",
      "source": [
        "\n",
        "# Filter transactions for Mainstream, young singles/couples\n",
        "mainstream_young = df[(df['LIFESTAGE'] == 'YOUNG SINGLES/COUPLES') & (df['PREMIUM_CUSTOMER'] == 'Mainstream')]\n",
        "\n",
        "# Calculate the frequency of each brand\n",
        "brand_counts = mainstream_young['BRAND'].value_counts()\n",
        "\n",
        "# Find the brand with the highest frequency\n",
        "most_purchased_brand = brand_counts.idxmax()\n",
        "\n",
        "print(f\"The most purchased brand by Mainstream, young singles/couples is:{ most_purchased_brand}\\n\\n\")"
      ],
      "metadata": {
        "colab": {
          "base_uri": "https://localhost:8080/"
        },
        "id": "iakGvrUk1ws7",
        "outputId": "d21e86f0-d142-40f7-f450-0607f24e3c8e"
      },
      "execution_count": null,
      "outputs": [
        {
          "output_type": "stream",
          "name": "stdout",
          "text": [
            "The most purchased brand by Mainstream, young singles/couples is:thins\n",
            "\n",
            "\n"
          ]
        },
        {
          "output_type": "stream",
          "name": "stderr",
          "text": [
            "/usr/local/lib/python3.10/dist-packages/ipykernel/ipkernel.py:283: DeprecationWarning: `should_run_async` will not call `transform_cell` automatically in the future. Please pass the result to `transformed_cell` argument and any exception that happen during thetransform in `preprocessing_exc_tuple` in IPython 7.17 and above.\n",
            "  and should_run_async(code)\n"
          ]
        }
      ]
    },
    {
      "cell_type": "code",
      "source": [
        "# filter transactions for MAINSTREAM, YOUNG SINGLES/COUPLES\n",
        "Mainstream_young=df[(df['LIFESTAGE'] == 'YOUNG SINGLES/COUPLES') & (df['PREMIUM_CUSTOMER'] == 'Mainstream')]\n",
        "\n",
        "# Calculate the frequency of each Pack_size\n",
        "pack_counts= Mainstream_young['PACK_SIZE'].value_counts()\n",
        "\n",
        "#Find the Pack_size with the highest frequency\n",
        "most_Pack_size=pack_counts.idxmax()\n",
        "\n",
        "print(f\"The most purchased Pack size by Mainstream, young singles/couples is:{ most_Pack_size} g\\n\\n\")"
      ],
      "metadata": {
        "colab": {
          "base_uri": "https://localhost:8080/"
        },
        "id": "o_xCZ63h3kiA",
        "outputId": "dc8ffc82-be28-4cdb-f5de-c4155fef7af0"
      },
      "execution_count": null,
      "outputs": [
        {
          "output_type": "stream",
          "name": "stdout",
          "text": [
            "The most purchased Pack size by Mainstream, young singles/couples is:175.0 g\n",
            "\n",
            "\n"
          ]
        },
        {
          "output_type": "stream",
          "name": "stderr",
          "text": [
            "/usr/local/lib/python3.10/dist-packages/ipykernel/ipkernel.py:283: DeprecationWarning: `should_run_async` will not call `transform_cell` automatically in the future. Please pass the result to `transformed_cell` argument and any exception that happen during thetransform in `preprocessing_exc_tuple` in IPython 7.17 and above.\n",
            "  and should_run_async(code)\n"
          ]
        }
      ]
    }
  ]
}